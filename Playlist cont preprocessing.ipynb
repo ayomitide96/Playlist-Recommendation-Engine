{
 "cells": [
  {
   "cell_type": "code",
   "execution_count": null,
   "id": "202dec8a",
   "metadata": {},
   "outputs": [],
   "source": [
    "import pandas as pd\n",
    "import numpy as np\n",
    "from sklearn.feature_extraction.text import TfidfVectorizer\n",
    "from sklearn.neighbors import NearestNeighbors\n",
    "import re"
   ]
  },
  {
   "cell_type": "code",
   "execution_count": null,
   "id": "e28fb261",
   "metadata": {},
   "outputs": [],
   "source": [
    "# Load dataset\n",
    "df_samp = pd.read_csv(\"/Users/ayomitide/Desktop/playlist csv.csv\")\n",
    "\n",
    "df_samp"
   ]
  },
  {
   "cell_type": "code",
   "execution_count": null,
   "id": "d4f55173",
   "metadata": {},
   "outputs": [],
   "source": [
    "\n",
    "# Filter out columns that start with 'Unnamed'\n",
    "df = df_samp.loc[:, ~df_samp.columns.str.startswith('Unnamed')]\n",
    "\n",
    "# Strip whitespace and replace double quotes in column names of the filtered DataFrame\n",
    "df.columns = df.columns.str.strip().str.replace('\"', '')\n",
    "\n",
    "# Display the DataFrame\n",
    "df\n"
   ]
  },
  {
   "cell_type": "code",
   "execution_count": null,
   "id": "16241d6c",
   "metadata": {},
   "outputs": [],
   "source": [
    "df.isnull().sum()"
   ]
  },
  {
   "cell_type": "code",
   "execution_count": null,
   "id": "5aef342d",
   "metadata": {},
   "outputs": [],
   "source": [
    "df2= df.dropna()\n",
    "df2.isnull().sum()"
   ]
  },
  {
   "cell_type": "code",
   "execution_count": null,
   "id": "8cc0479f",
   "metadata": {},
   "outputs": [],
   "source": [
    "df2['trackname'].fillna('', inplace=True)"
   ]
  },
  {
   "cell_type": "code",
   "execution_count": null,
   "id": "fdcb72ca",
   "metadata": {},
   "outputs": [],
   "source": [
    "# Clean 'trackname' column by converting to lowercase and removing non-alphabetic characters\n",
    "df2.loc[:, 'trackname'] = df2['trackname'].astype(str).str.lower().apply(lambda x: re.sub('[^a-zA-Z\\s]', '', x))\n"
   ]
  },
  {
   "cell_type": "code",
   "execution_count": null,
   "id": "44222cbd",
   "metadata": {},
   "outputs": [],
   "source": [
    "tfidf_track = TfidfVectorizer(stop_words='english')\n",
    "tfidf_matrix_tracks = tfidf_track.fit_transform(df2['trackname'])"
   ]
  },
  {
   "cell_type": "code",
   "execution_count": null,
   "id": "b31b42af",
   "metadata": {},
   "outputs": [],
   "source": []
  }
 ],
 "metadata": {
  "kernelspec": {
   "display_name": "Python 3 (ipykernel)",
   "language": "python",
   "name": "python3"
  },
  "language_info": {
   "codemirror_mode": {
    "name": "ipython",
    "version": 3
   },
   "file_extension": ".py",
   "mimetype": "text/x-python",
   "name": "python",
   "nbconvert_exporter": "python",
   "pygments_lexer": "ipython3",
   "version": "3.11.5"
  }
 },
 "nbformat": 4,
 "nbformat_minor": 5
}
